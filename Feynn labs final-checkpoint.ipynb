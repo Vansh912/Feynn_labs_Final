{
 "cells": [
  {
   "cell_type": "code",
   "execution_count": 20,
   "id": "19e0d94a",
   "metadata": {},
   "outputs": [],
   "source": [
    "import tensorflow as tf\n",
    "import keras\n",
    "import os\n",
    "import pandas as pd\n",
    "\n",
    "import seaborn as sns\n",
    "from kerastuner.tuners import RandomSearch\n",
    "from kerastuner.engine.hyperparameters import HyperParameter as hp\n",
    "from keras.layers import Dense,Dropout,Activation,Add,MaxPooling2D,Conv2D,Flatten,BatchNormalization,MaxPool2D\n",
    "from keras.models import Sequential\n",
    "from keras import layers\n",
    "from keras.preprocessing.image import ImageDataGenerator\n",
    "import numpy as np\n",
    "import matplotlib.pyplot as plt\n",
    "from keras.preprocessing import image\n",
    "import random\n",
    "from tensorflow.keras.callbacks import ModelCheckpoint, EarlyStopping"
   ]
  },
  {
   "cell_type": "code",
   "execution_count": 49,
   "id": "e8a6d07c",
   "metadata": {},
   "outputs": [
    {
     "data": {
      "text/plain": [
       "'C:\\\\Users\\\\Vansh\\\\Downloads\\\\casting\\\\casting_512x512\\\\casting_512x512'"
      ]
     },
     "execution_count": 49,
     "metadata": {},
     "output_type": "execute_result"
    }
   ],
   "source": [
    "batch_size = 64\n",
    "epochs = 20\n",
    "img_height = 299\n",
    "img_width = 299\n",
    "img_size = (img_height, img_width)\n",
    "dataset_url = r\"C:\\Users\\Vansh\\Downloads\\casting\\casting_512x512\\casting_512x512\"\n",
    "data_dir = dataset_url\n",
    "data_dir"
   ]
  },
  {
   "cell_type": "code",
   "execution_count": 50,
   "id": "56425653",
   "metadata": {},
   "outputs": [
    {
     "name": "stdout",
     "output_type": "stream",
     "text": [
      "Found 1300 files belonging to 2 classes.\n",
      "Using 1040 files for training.\n",
      "Found 1300 files belonging to 2 classes.\n",
      "Using 260 files for validation.\n"
     ]
    }
   ],
   "source": [
    "seed = 0\n",
    "random.seed(seed)\n",
    "np.random.seed(seed)\n",
    "tf.random.set_seed(seed)\n",
    "train_set = tf.keras.utils.image_dataset_from_directory(\n",
    "    data_dir,\n",
    "    validation_split=0.2,\n",
    "    class_names =  ['ok_front', 'def_front'],\n",
    "    subset=\"training\",\n",
    "    seed=seed,\n",
    "    image_size=(img_height, img_width),\n",
    "    batch_size=batch_size)\n",
    "val_set = tf.keras.utils.image_dataset_from_directory(\n",
    "    data_dir,\n",
    "    validation_split=0.2,\n",
    "    class_names =  ['ok_front', 'def_front'],\n",
    "    subset=\"validation\",\n",
    "    seed=seed,\n",
    "    image_size=(img_height, img_width),\n",
    "    batch_size=batch_size)"
   ]
  },
  {
   "cell_type": "code",
   "execution_count": 51,
   "id": "a0bfa78f",
   "metadata": {},
   "outputs": [],
   "source": [
    "c_model = Sequential([\n",
    "  layers.Conv2D(64, 3, padding='same', activation='relu',input_shape = (img_height,img_width,3)),\n",
    "  layers.MaxPooling2D(),\n",
    "  layers.Conv2D(64, 3, padding='same', activation='relu'),\n",
    "  layers.MaxPooling2D(),\n",
    "  layers.Conv2D(64, 3, padding='same', activation='relu'),\n",
    "  layers.MaxPooling2D(),\n",
    "  layers.Conv2D(64, 3, padding='same', activation='relu'),\n",
    "  layers.MaxPooling2D(),\n",
    "  layers.Conv2D(64, 3, padding='same', activation='relu'),\n",
    "  layers.MaxPooling2D(),\n",
    "  layers.Conv2D(32, 3, padding='same', activation='relu'),\n",
    "  layers.MaxPooling2D(),\n",
    "  layers.Flatten(),\n",
    "  layers.Dense(128, activation='relu'),\n",
    "  layers.Dense(1, activation = 'sigmoid')\n",
    "])"
   ]
  },
  {
   "cell_type": "code",
   "execution_count": 52,
   "id": "ccf0d8e3",
   "metadata": {},
   "outputs": [
    {
     "name": "stdout",
     "output_type": "stream",
     "text": [
      "Model: \"sequential_8\"\n",
      "_________________________________________________________________\n",
      " Layer (type)                Output Shape              Param #   \n",
      "=================================================================\n",
      " conv2d_50 (Conv2D)          (None, 299, 299, 64)      1792      \n",
      "                                                                 \n",
      " max_pooling2d_48 (MaxPooli  (None, 149, 149, 64)      0         \n",
      " ng2D)                                                           \n",
      "                                                                 \n",
      " conv2d_51 (Conv2D)          (None, 149, 149, 64)      36928     \n",
      "                                                                 \n",
      " max_pooling2d_49 (MaxPooli  (None, 74, 74, 64)        0         \n",
      " ng2D)                                                           \n",
      "                                                                 \n",
      " conv2d_52 (Conv2D)          (None, 74, 74, 64)        36928     \n",
      "                                                                 \n",
      " max_pooling2d_50 (MaxPooli  (None, 37, 37, 64)        0         \n",
      " ng2D)                                                           \n",
      "                                                                 \n",
      " conv2d_53 (Conv2D)          (None, 37, 37, 64)        36928     \n",
      "                                                                 \n",
      " max_pooling2d_51 (MaxPooli  (None, 18, 18, 64)        0         \n",
      " ng2D)                                                           \n",
      "                                                                 \n",
      " conv2d_54 (Conv2D)          (None, 18, 18, 64)        36928     \n",
      "                                                                 \n",
      " max_pooling2d_52 (MaxPooli  (None, 9, 9, 64)          0         \n",
      " ng2D)                                                           \n",
      "                                                                 \n",
      " conv2d_55 (Conv2D)          (None, 9, 9, 32)          18464     \n",
      "                                                                 \n",
      " max_pooling2d_53 (MaxPooli  (None, 4, 4, 32)          0         \n",
      " ng2D)                                                           \n",
      "                                                                 \n",
      " flatten_8 (Flatten)         (None, 512)               0         \n",
      "                                                                 \n",
      " dense_16 (Dense)            (None, 128)               65664     \n",
      "                                                                 \n",
      " dense_17 (Dense)            (None, 1)                 129       \n",
      "                                                                 \n",
      "=================================================================\n",
      "Total params: 233761 (913.13 KB)\n",
      "Trainable params: 233761 (913.13 KB)\n",
      "Non-trainable params: 0 (0.00 Byte)\n",
      "_________________________________________________________________\n"
     ]
    }
   ],
   "source": [
    "c_model.summary()"
   ]
  },
  {
   "cell_type": "code",
   "execution_count": 53,
   "id": "3b2a6799",
   "metadata": {},
   "outputs": [],
   "source": [
    "c_model.compile(optimizer='adam', \n",
    "                     loss='binary_crossentropy', \n",
    "                     metrics=['accuracy'])"
   ]
  },
  {
   "cell_type": "code",
   "execution_count": 54,
   "id": "60d98914",
   "metadata": {},
   "outputs": [],
   "source": [
    "class myCallback(tf.keras.callbacks.Callback):\n",
    "    def on_epoch_end(self, epoch, logs={}):\n",
    "        if logs.get('accuracy') == 1.0 and logs.get('val_accuracy') == 1.0 :\n",
    "            print(\"\\nReached 100% accuracy so cancelling training!\")\n",
    "            self.model.stop_training = True\n",
    "\n",
    "terminate_callback =  myCallback()"
   ]
  },
  {
   "cell_type": "code",
   "execution_count": 55,
   "id": "3600110b",
   "metadata": {},
   "outputs": [],
   "source": [
    "reduce_lr = tf.keras.callbacks.ReduceLROnPlateau(monitor='val_loss', factor=0.5, verbose=1,min_delta=0.01,\n",
    "                              patience=2, min_lr=0.001)"
   ]
  },
  {
   "cell_type": "code",
   "execution_count": 56,
   "id": "d328913c",
   "metadata": {},
   "outputs": [
    {
     "name": "stdout",
     "output_type": "stream",
     "text": [
      "Epoch 1/20\n",
      "17/17 [==============================] - 57s 3s/step - loss: 2.7385 - accuracy: 0.5635 - val_loss: 0.6537 - val_accuracy: 0.5885 - lr: 0.0010\n",
      "Epoch 2/20\n",
      "17/17 [==============================] - 58s 3s/step - loss: 0.5596 - accuracy: 0.7135 - val_loss: 0.4996 - val_accuracy: 0.7462 - lr: 0.0010\n",
      "Epoch 3/20\n",
      "17/17 [==============================] - 57s 3s/step - loss: 0.4850 - accuracy: 0.7788 - val_loss: 0.4440 - val_accuracy: 0.8077 - lr: 0.0010\n",
      "Epoch 4/20\n",
      "17/17 [==============================] - 56s 3s/step - loss: 0.4645 - accuracy: 0.7981 - val_loss: 0.4169 - val_accuracy: 0.8192 - lr: 0.0010\n",
      "Epoch 5/20\n",
      "17/17 [==============================] - 57s 3s/step - loss: 0.3803 - accuracy: 0.8337 - val_loss: 0.3644 - val_accuracy: 0.8500 - lr: 0.0010\n",
      "Epoch 6/20\n",
      "17/17 [==============================] - 56s 3s/step - loss: 0.3308 - accuracy: 0.8635 - val_loss: 0.4894 - val_accuracy: 0.7846 - lr: 0.0010\n",
      "Epoch 7/20\n",
      "17/17 [==============================] - 56s 3s/step - loss: 0.3217 - accuracy: 0.8519 - val_loss: 0.4162 - val_accuracy: 0.7923 - lr: 0.0010\n",
      "Epoch 8/20\n",
      "17/17 [==============================] - 56s 3s/step - loss: 0.3023 - accuracy: 0.8663 - val_loss: 0.2644 - val_accuracy: 0.8769 - lr: 0.0010\n",
      "Epoch 9/20\n",
      "17/17 [==============================] - 56s 3s/step - loss: 0.2684 - accuracy: 0.8856 - val_loss: 0.2569 - val_accuracy: 0.8962 - lr: 0.0010\n",
      "Epoch 10/20\n",
      "17/17 [==============================] - 57s 3s/step - loss: 0.1715 - accuracy: 0.9442 - val_loss: 0.3247 - val_accuracy: 0.8577 - lr: 0.0010\n",
      "Epoch 11/20\n",
      "17/17 [==============================] - 56s 3s/step - loss: 0.1620 - accuracy: 0.9385 - val_loss: 0.2110 - val_accuracy: 0.9077 - lr: 0.0010\n",
      "Epoch 12/20\n",
      "17/17 [==============================] - 56s 3s/step - loss: 0.1051 - accuracy: 0.9683 - val_loss: 0.1972 - val_accuracy: 0.9115 - lr: 0.0010\n",
      "Epoch 13/20\n",
      "17/17 [==============================] - 56s 3s/step - loss: 0.0953 - accuracy: 0.9663 - val_loss: 0.2911 - val_accuracy: 0.8885 - lr: 0.0010\n",
      "Epoch 14/20\n",
      "17/17 [==============================] - 56s 3s/step - loss: 0.2216 - accuracy: 0.9038 - val_loss: 0.2660 - val_accuracy: 0.8769 - lr: 0.0010\n",
      "Epoch 15/20\n",
      "17/17 [==============================] - 56s 3s/step - loss: 0.1272 - accuracy: 0.9587 - val_loss: 0.1809 - val_accuracy: 0.9231 - lr: 0.0010\n",
      "Epoch 16/20\n",
      "17/17 [==============================] - 56s 3s/step - loss: 0.0589 - accuracy: 0.9856 - val_loss: 0.1465 - val_accuracy: 0.9269 - lr: 0.0010\n",
      "Epoch 17/20\n",
      "17/17 [==============================] - 56s 3s/step - loss: 0.0613 - accuracy: 0.9798 - val_loss: 0.2873 - val_accuracy: 0.9000 - lr: 0.0010\n",
      "Epoch 18/20\n",
      "17/17 [==============================] - 57s 3s/step - loss: 0.0493 - accuracy: 0.9865 - val_loss: 0.1555 - val_accuracy: 0.9385 - lr: 0.0010\n",
      "Epoch 19/20\n",
      "17/17 [==============================] - 57s 3s/step - loss: 0.0234 - accuracy: 0.9942 - val_loss: 0.2255 - val_accuracy: 0.9154 - lr: 0.0010\n",
      "Epoch 20/20\n",
      "17/17 [==============================] - 56s 3s/step - loss: 0.0278 - accuracy: 0.9894 - val_loss: 0.2293 - val_accuracy: 0.9385 - lr: 0.0010\n"
     ]
    }
   ],
   "source": [
    "history = c_model.fit(train_set, \n",
    "                            validation_data=val_set, \n",
    "                            epochs=epochs,\n",
    "                            callbacks= [reduce_lr, terminate_callback]\n",
    ")"
   ]
  },
  {
   "cell_type": "code",
   "execution_count": 57,
   "id": "2cacad5a",
   "metadata": {},
   "outputs": [],
   "source": [
    "get_ac = history.history['accuracy']\n",
    "get_los = history.history['loss']\n",
    "val_acc = history.history['val_accuracy']\n",
    "val_loss =history.history['val_loss']"
   ]
  },
  {
   "cell_type": "code",
   "execution_count": 58,
   "id": "a2fa0358",
   "metadata": {},
   "outputs": [
    {
     "data": {
      "text/plain": [
       "<Figure size 640x480 with 0 Axes>"
      ]
     },
     "execution_count": 58,
     "metadata": {},
     "output_type": "execute_result"
    },
    {
     "data": {
      "image/png": "[encoded data removed]",
      "text/plain": [
       "<Figure size 640x480 with 1 Axes>"
      ]
     },
     "metadata": {},
     "output_type": "display_data"
    },
    {
     "data": {
      "text/plain": [
       "<Figure size 640x480 with 0 Axes>"
      ]
     },
     "metadata": {},
     "output_type": "display_data"
    }
   ],
   "source": [
    "epochs = range(len(get_ac))\n",
    "plt.plot(epochs, get_ac, 'g', label='Accuracy of Training data')\n",
    "plt.plot(epochs, get_los, 'r', label='Loss of Training data')\n",
    "plt.plot(epochs, val_acc, 'b', label='Accuracy of validation data')\n",
    "plt.plot(epochs, val_loss, 'y', label='Loss of validation data')\n",
    "\n",
    "plt.title('data accuracy, loss')\n",
    "plt.legend(loc=0)\n",
    "plt.figure()"
   ]
  }
 ],
 "metadata": {
  "kernelspec": {
   "display_name": "Python 3 (ipykernel)",
   "language": "python",
   "name": "python3"
  },
  "language_info": {
   "codemirror_mode": {
    "name": "ipython",
    "version": 3
   },
   "file_extension": ".py",
   "mimetype": "text/x-python",
   "name": "python",
   "nbconvert_exporter": "python",
   "pygments_lexer": "ipython3",
   "version": "3.9.7"
  }
 },
 "nbformat": 4,
 "nbformat_minor": 5
}
